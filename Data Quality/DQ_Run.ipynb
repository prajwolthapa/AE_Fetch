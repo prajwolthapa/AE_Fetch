{
 "cells": [
  {
   "cell_type": "code",
   "execution_count": null,
   "metadata": {},
   "outputs": [],
   "source": [
    "from utils.data_quality_check_receipts import ReceiptsDataQualityChecker ## Receipts Data\n",
    "from utils.data_quality_check_users import DataQuality_Users ## Users Data"
   ]
  },
  {
   "cell_type": "code",
   "execution_count": 2,
   "metadata": {},
   "outputs": [],
   "source": [
    "file_path_dir_1 = '../dataset/users.json'\n",
    "file_path_dir_2 = '../dataset/receipts.json'"
   ]
  },
  {
   "cell_type": "markdown",
   "metadata": {},
   "source": [
    "# Data Quality Check Overview\n",
    "\n",
    "1. **Class Files Structure**:  \n",
    "   For scalability, the class files could have been combined into a single file. However, to expedite development, I opted to separate them into two files.\n",
    "\n",
    "2. **Purpose of Data Quality Check Processes**:  \n",
    "   I have implemented two Data Quality Check processes to explore the dataset, providing insights into potential data inconsistencies.\n",
    "\n",
    "3. **Scope of Implementation**:  \n",
    "   The implementation focuses on minimal yet essential checks to perform a high-level analysis of the provided dataset.\n"
   ]
  },
  {
   "cell_type": "code",
   "execution_count": null,
   "metadata": {},
   "outputs": [],
   "source": [
    "\"\"\"Initiane Data Quality Check for the Receipts Date\"\"\"\n",
    "receipts_data = ReceiptsDataQualityChecker(file_path_dir_2)\n",
    "receipts_data.display_summary()"
   ]
  },
  {
   "cell_type": "code",
   "execution_count": null,
   "metadata": {},
   "outputs": [],
   "source": [
    "\n",
    "\"\"\"Data Quality Check for users Data\n",
    "In this method once the class is initializes the summary checks automatically run\n",
    " \"\"\"\n",
    "users_Data = DataQuality_Users(file_path_dir_1)"
   ]
  }
 ],
 "metadata": {
  "kernelspec": {
   "display_name": "Python 3",
   "language": "python",
   "name": "python3"
  },
  "language_info": {
   "codemirror_mode": {
    "name": "ipython",
    "version": 3
   },
   "file_extension": ".py",
   "mimetype": "text/x-python",
   "name": "python",
   "nbconvert_exporter": "python",
   "pygments_lexer": "ipython3",
   "version": "3.12.7"
  }
 },
 "nbformat": 4,
 "nbformat_minor": 2
}
